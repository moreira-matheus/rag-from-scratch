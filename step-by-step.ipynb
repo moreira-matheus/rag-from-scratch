{
 "cells": [
  {
   "cell_type": "markdown",
   "metadata": {},
   "source": [
    "# RAG from scratch\n",
    "\n",
    "Tutorial: https://learnbybuilding.ai/tutorials/rag-from-scratch.\n",
    "\n",
    "RAG paper:https://arxiv.org/abs/2005.11401.\n",
    "\n",
    "Jaccard index: https://en.wikipedia.org/wiki/Jaccard_index.\n",
    "\n",
    "ollama: https://ollama.com/.\n",
    "- https://itsfoss.com/ollama-setup-linux/"
   ]
  },
  {
   "cell_type": "code",
   "execution_count": 11,
   "metadata": {},
   "outputs": [],
   "source": [
    "corpus_of_documents = [\n",
    "    \"Take a leisurely walk in the park and enjoy the fresh air.\",\n",
    "    \"Visit a local museum and discover something new.\",\n",
    "    \"Attend a live music concert and feel the rhythm.\",\n",
    "    \"Go for a hike and admire the natural scenery.\",\n",
    "    \"Have a picnic with friends and share some laughs.\",\n",
    "    \"Explore a new cuisine by dining at an ethnic restaurant.\",\n",
    "    \"Take a yoga class and stretch your body and mind.\",\n",
    "    \"Join a local sports league and enjoy some friendly competition.\",\n",
    "    \"Attend a workshop or lecture on a topic you're interested in.\",\n",
    "    \"Visit an amusement park and ride the roller coasters.\"\n",
    "]"
   ]
  },
  {
   "cell_type": "code",
   "execution_count": 12,
   "metadata": {},
   "outputs": [],
   "source": [
    "def preprocess_query(query):\n",
    "    return query.lower().split(\" \")\n",
    "\n",
    "def jaccard_similarity(query, document):\n",
    "    query = preprocess_query(query)\n",
    "    document = document.lower().split(\" \")\n",
    "    intersection = set(query).intersection(set(document))\n",
    "    union = set(query).union(set(document))\n",
    "    return len(intersection)/len(union)\n",
    "\n",
    "def return_response(user_input, corpus):\n",
    "    similarities = []\n",
    "    for doc in corpus:\n",
    "        similarity = jaccard_similarity(user_input, doc)\n",
    "        similarities.append(similarity)\n",
    "    return corpus_of_documents[similarities.index(max(similarities))]\n"
   ]
  },
  {
   "cell_type": "code",
   "execution_count": 13,
   "metadata": {},
   "outputs": [],
   "source": [
    "user_input = \"I like to hike\""
   ]
  },
  {
   "cell_type": "code",
   "execution_count": 14,
   "metadata": {},
   "outputs": [
    {
     "data": {
      "text/plain": [
       "'Go for a hike and admire the natural scenery.'"
      ]
     },
     "execution_count": 14,
     "metadata": {},
     "output_type": "execute_result"
    }
   ],
   "source": [
    "return_response(user_input, corpus_of_documents)"
   ]
  },
  {
   "cell_type": "code",
   "execution_count": 15,
   "metadata": {},
   "outputs": [],
   "source": [
    "user_input = \"I don't like to hike\""
   ]
  },
  {
   "cell_type": "code",
   "execution_count": 16,
   "metadata": {},
   "outputs": [
    {
     "data": {
      "text/plain": [
       "'Go for a hike and admire the natural scenery.'"
      ]
     },
     "execution_count": 16,
     "metadata": {},
     "output_type": "execute_result"
    }
   ],
   "source": [
    "return_response(user_input, corpus_of_documents)"
   ]
  },
  {
   "cell_type": "markdown",
   "metadata": {},
   "source": [
    "## Using `ollama`\n",
    "\n",
    "Installing `ollama`:\n",
    "\n",
    "```\n",
    "curl -fsSL https://ollama.com/install.sh | sh\n",
    "```\n",
    "\n",
    "Running `ollama`:\n",
    "\n",
    "```\n",
    "ollama serve\n",
    "```\n",
    "\n",
    "Pulling `tinyllama`:\n",
    "\n",
    "```\n",
    "ollama pull tinyllama\n",
    "```\n"
   ]
  },
  {
   "cell_type": "code",
   "execution_count": 17,
   "metadata": {},
   "outputs": [],
   "source": [
    "import requests\n",
    "import json"
   ]
  },
  {
   "cell_type": "code",
   "execution_count": 18,
   "metadata": {},
   "outputs": [],
   "source": [
    "user_input = \"I like to hike\"\n",
    "relevant_document = return_response(user_input, corpus_of_documents)\n",
    "full_response = []"
   ]
  },
  {
   "cell_type": "code",
   "execution_count": 19,
   "metadata": {},
   "outputs": [],
   "source": [
    "prompt = \"\"\"\n",
    "You are a bot that makes recommendations for activities. You answer in very short sentences and do not include extra information.\n",
    "This is the recommended activity: {relevant_document}\n",
    "The user input is: {user_input}\n",
    "Compile a recommendation to the user based on the recommended activity and the user input.\n",
    "\"\"\""
   ]
  },
  {
   "cell_type": "code",
   "execution_count": null,
   "metadata": {},
   "outputs": [],
   "source": [
    "full_response = []\n",
    "url = 'http://localhost:11434/api/generate'\n",
    "model = 'tinyllama'\n",
    "data = {\n",
    "    \"model\": model,\n",
    "    \"prompt\": prompt.format(user_input=user_input, relevant_document=relevant_document)\n",
    "}\n",
    "\n",
    "headers = {'Content-Type': 'application/json'}\n",
    "response = requests.post(url, data=json.dumps(data), headers=headers, stream=True)\n",
    "try:\n",
    "    count = 0\n",
    "    for line in response.iter_lines():\n",
    "        # filter out keep-alive new lines\n",
    "        # count += 1\n",
    "        # if count % 5== 0:\n",
    "        #     print(decoded_line['response']) # print every fifth token\n",
    "        if line:\n",
    "            decoded_line = json.loads(line.decode('utf-8'))\n",
    "            #print(decoded_line)\n",
    "            \n",
    "            full_response.append(decoded_line['response'])\n",
    "finally:\n",
    "    response.close()\n",
    "\n",
    "full_response = ''.join(full_response)"
   ]
  },
  {
   "cell_type": "code",
   "execution_count": 22,
   "metadata": {},
   "outputs": [
    {
     "name": "stdout",
     "output_type": "stream",
     "text": [
      "As per your input, here's a potential response:\n",
      "\n",
      "Welcome to our AI-powered personal assistant! We have heard that you enjoy hiking, so we suggest taking a day trip to one of our recommended natural scene locations in the nearby area. Our suggestion for today is for you to embark on a 3-hour hike along the scenic path with stunning views of the rolling hills, streams and wildflowers. The trail is approximately 2 miles long, so it's perfect for a leisurely walk at your own pace. We hope this suggestion helps you to appreciate nature in all its glory!\n",
      "\n",
      "In case you prefer to take a more guided route, we can provide some tips on how to access the natural park, where the hike will start from. There are several parking lots nearby that you can choose from, but our recommendation is for you to use the one with the best views and facilities. It's located just 15 minutes away from downtown. You'll find it on your left as you approach the town square. If you prefer to walk there yourself, it will take around 30-45 minutes depending on your pace. Enjoy your day!\n",
      "\n",
      "We hope this suggestion helps you plan and have an unforgettable experience while exploring nature in the vicinity. Let us know if there's anything else we can assist you with. Cheers, and happy hiking!Based on the input \"I like to hike\", your AI assistant would recommend the following recommended activity:\n",
      "\n",
      "Activity: Hiking\n",
      "- Suggested outfit: Comfortable hiking shoes, long sleeve shirt, water bottle and sunscreen.\n",
      "- Time required: 1-2 hours\n",
      "- Description of the scenery: The natural landscape offers a breathtaking view with rolling hills, forests, and meadows surrounded by mountains. You can enjoy the peaceful surroundings while taking in the panoramic views.\n",
      "\n",
      "Your AI assistant's recommendation would be tailored to suit your user's preferences and fit their schedule. It would include relevant details such as distance, difficulty level, weather conditions, and any additional information that may help make this hiking experience more enjoyable.\n"
     ]
    }
   ],
   "source": [
    "print(full_response)"
   ]
  },
  {
   "cell_type": "code",
   "execution_count": 32,
   "metadata": {},
   "outputs": [],
   "source": [
    "def generate_response(user_input, relevant_document):\n",
    "    full_response = []\n",
    "    url = 'http://localhost:11434/api/generate'\n",
    "    data = {\n",
    "        \"model\": \"tinyllama\",\n",
    "        \"prompt\": prompt.format(user_input=user_input, relevant_document=relevant_document)\n",
    "    }\n",
    "    headers = {'Content-Type': 'application/json'}\n",
    "    response = requests.post(url, data=json.dumps(data), headers=headers, stream=True)\n",
    "    try:\n",
    "        for line in response.iter_lines():\n",
    "            # filter out keep-alive new lines\n",
    "            if line:\n",
    "                decoded_line = json.loads(line.decode('utf-8'))\n",
    "                #print(decoded_line)\n",
    "                # print(decoded_line['response'])  # uncomment to results, token by token\n",
    "                full_response.append(decoded_line['response'])\n",
    "    finally:\n",
    "        response.close()\n",
    "\n",
    "    return ''.join(full_response)\n"
   ]
  },
  {
   "cell_type": "code",
   "execution_count": 33,
   "metadata": {},
   "outputs": [
    {
     "name": "stdout",
     "output_type": "stream",
     "text": [
      "Based on the user input \"I don't like hiking,\" the recommended activity for the bot is not to hike. Here's the output:\n",
      "\n",
      "Activity suggestion: Take a leisurely walk in the park instead! Enjoy the fresh air and beautiful scenery at your own pace.\n"
     ]
    }
   ],
   "source": [
    "user_input = \"I don't like hiking\"\n",
    "full_response = generate_response(\n",
    "    user_input=user_input,\n",
    "    relevant_document=return_response(user_input, corpus_of_documents)\n",
    ")\n",
    "print(full_response)"
   ]
  }
 ],
 "metadata": {
  "kernelspec": {
   "display_name": "Python 3",
   "language": "python",
   "name": "python3"
  },
  "language_info": {
   "codemirror_mode": {
    "name": "ipython",
    "version": 3
   },
   "file_extension": ".py",
   "mimetype": "text/x-python",
   "name": "python",
   "nbconvert_exporter": "python",
   "pygments_lexer": "ipython3",
   "version": "3.8.10"
  }
 },
 "nbformat": 4,
 "nbformat_minor": 2
}
